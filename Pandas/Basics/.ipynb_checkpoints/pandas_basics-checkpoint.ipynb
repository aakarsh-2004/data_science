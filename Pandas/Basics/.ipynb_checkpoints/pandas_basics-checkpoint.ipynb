{
 "cells": [
  {
   "cell_type": "code",
   "execution_count": 1,
   "id": "89710a0e",
   "metadata": {},
   "outputs": [],
   "source": [
    "import pandas as pd"
   ]
  },
  {
   "cell_type": "code",
   "execution_count": 2,
   "id": "cfec7d83",
   "metadata": {},
   "outputs": [],
   "source": [
    "# 2 main datatypes\n",
    "car_list = pd.Series([\"BMW\", \"Mercedes\", \"Audi\"])"
   ]
  },
  {
   "cell_type": "code",
   "execution_count": 3,
   "id": "efdb5bec",
   "metadata": {},
   "outputs": [
    {
     "data": {
      "text/plain": [
       "0         BMW\n",
       "1    Mercedes\n",
       "2        Audi\n",
       "dtype: object"
      ]
     },
     "execution_count": 3,
     "metadata": {},
     "output_type": "execute_result"
    }
   ],
   "source": [
    "car_list"
   ]
  },
  {
   "cell_type": "code",
   "execution_count": 4,
   "id": "4fce02cd",
   "metadata": {},
   "outputs": [],
   "source": [
    "# series = 1 dimensional"
   ]
  },
  {
   "cell_type": "code",
   "execution_count": null,
   "id": "4275d7ad",
   "metadata": {},
   "outputs": [],
   "source": [
    "colors = pd.Series([\"red\", \"blue\", \"white\"])"
   ]
  }
 ],
 "metadata": {
  "kernelspec": {
   "display_name": "Python 3 (ipykernel)",
   "language": "python",
   "name": "python3"
  },
  "language_info": {
   "codemirror_mode": {
    "name": "ipython",
    "version": 3
   },
   "file_extension": ".py",
   "mimetype": "text/x-python",
   "name": "python",
   "nbconvert_exporter": "python",
   "pygments_lexer": "ipython3",
   "version": "3.11.4"
  }
 },
 "nbformat": 4,
 "nbformat_minor": 5
}
