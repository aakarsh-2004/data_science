{
  "nbformat": 4,
  "nbformat_minor": 0,
  "metadata": {
    "colab": {
      "provenance": [],
      "gpuType": "T4"
    },
    "kernelspec": {
      "name": "python3",
      "display_name": "Python 3"
    },
    "language_info": {
      "name": "python"
    },
    "accelerator": "GPU"
  },
  "cells": [
    {
      "cell_type": "markdown",
      "source": [
        "# In this notebook, we're going to cover some of the fundamentals concepts of tensors using TensorFlow\n",
        "\n",
        "More specifically, we're going to cover:\n",
        "* Introduction to tensors\n",
        "* Getting information from tensors\n",
        "* Manipulating tensors\n",
        "* Tensors and NumPy\n",
        "* Using @tf.function (a way to speed up your regular python functions)\n",
        "* Using GPUs with TensorFlow (or TPUs)"
      ],
      "metadata": {
        "id": "ubrjzwS9L4s4"
      }
    },
    {
      "cell_type": "code",
      "execution_count": 1,
      "metadata": {
        "id": "VEhQJUqMDxcY"
      },
      "outputs": [],
      "source": [
        "import pandas as pd\n",
        "import numpy as np\n",
        "import matplotlib.pyplot as plt\n",
        "import tensorflow as tf"
      ]
    },
    {
      "cell_type": "markdown",
      "source": [
        "# Introduction to Tensors"
      ],
      "metadata": {
        "id": "igCf9UqdMaUp"
      }
    },
    {
      "cell_type": "code",
      "source": [
        "tf.__version__"
      ],
      "metadata": {
        "colab": {
          "base_uri": "https://localhost:8080/",
          "height": 36
        },
        "id": "MgZzObGyEEr2",
        "outputId": "48f8f1c3-6c2b-467e-9a74-5cce14e0453e"
      },
      "execution_count": 2,
      "outputs": [
        {
          "output_type": "execute_result",
          "data": {
            "text/plain": [
              "'2.14.0'"
            ],
            "application/vnd.google.colaboratory.intrinsic+json": {
              "type": "string"
            }
          },
          "metadata": {},
          "execution_count": 2
        }
      ]
    },
    {
      "cell_type": "code",
      "source": [
        "# Create tensors with tf.constant()\n",
        "scalar = tf.constant(7)\n",
        "scalar"
      ],
      "metadata": {
        "colab": {
          "base_uri": "https://localhost:8080/"
        },
        "id": "V2HhR4qlMk-n",
        "outputId": "d3cb694f-2135-4e3a-df7d-be08cd790bad"
      },
      "execution_count": 3,
      "outputs": [
        {
          "output_type": "execute_result",
          "data": {
            "text/plain": [
              "<tf.Tensor: shape=(), dtype=int32, numpy=7>"
            ]
          },
          "metadata": {},
          "execution_count": 3
        }
      ]
    },
    {
      "cell_type": "code",
      "source": [
        "x = tf.constant(0, shape=(3, 3), dtype=\"int32\")\n",
        "x"
      ],
      "metadata": {
        "colab": {
          "base_uri": "https://localhost:8080/"
        },
        "id": "Gn8UqC30Mymv",
        "outputId": "0d2e7605-b685-46fb-904c-39cc451aa0cc"
      },
      "execution_count": 4,
      "outputs": [
        {
          "output_type": "execute_result",
          "data": {
            "text/plain": [
              "<tf.Tensor: shape=(3, 3), dtype=int32, numpy=\n",
              "array([[0, 0, 0],\n",
              "       [0, 0, 0],\n",
              "       [0, 0, 0]], dtype=int32)>"
            ]
          },
          "metadata": {},
          "execution_count": 4
        }
      ]
    },
    {
      "cell_type": "code",
      "source": [
        "# Check the number of dimensions\n",
        "x.ndim"
      ],
      "metadata": {
        "colab": {
          "base_uri": "https://localhost:8080/"
        },
        "id": "ZzNqulo0N3ZP",
        "outputId": "3304106d-4b63-4e2a-ab3b-f8d6346434f4"
      },
      "execution_count": 5,
      "outputs": [
        {
          "output_type": "execute_result",
          "data": {
            "text/plain": [
              "2"
            ]
          },
          "metadata": {},
          "execution_count": 5
        }
      ]
    },
    {
      "cell_type": "code",
      "source": [
        "another_matrix = tf.constant([[1., 2.],\n",
        "                              [4., 5],\n",
        "                              [6., 5.]], dtype=tf.float16, shape=(2,3))\n",
        "another_matrix"
      ],
      "metadata": {
        "colab": {
          "base_uri": "https://localhost:8080/"
        },
        "id": "DkOezC6JOQ6k",
        "outputId": "63a24875-4279-470f-8266-c1d9a4b1c799"
      },
      "execution_count": 6,
      "outputs": [
        {
          "output_type": "execute_result",
          "data": {
            "text/plain": [
              "<tf.Tensor: shape=(2, 3), dtype=float16, numpy=\n",
              "array([[1., 2., 4.],\n",
              "       [5., 6., 5.]], dtype=float16)>"
            ]
          },
          "metadata": {},
          "execution_count": 6
        }
      ]
    },
    {
      "cell_type": "code",
      "source": [
        "d3_mat = tf.constant([\n",
        "                       [\n",
        "                        [1, 2, 3],\n",
        "                        [4, 5, 6],\n",
        "                        [7, 8, 9]\n",
        "                       ],\n",
        "                       [\n",
        "                        [1, 2, 3],\n",
        "                        [3, 4, 5],\n",
        "                        [6, 7, 8]\n",
        "                       ]\n",
        "                      ])\n",
        "d3_mat"
      ],
      "metadata": {
        "colab": {
          "base_uri": "https://localhost:8080/"
        },
        "id": "HxYwJVHMP_jD",
        "outputId": "ff946356-91c3-4a6c-a084-8a7dbf044fab"
      },
      "execution_count": 7,
      "outputs": [
        {
          "output_type": "execute_result",
          "data": {
            "text/plain": [
              "<tf.Tensor: shape=(2, 3, 3), dtype=int32, numpy=\n",
              "array([[[1, 2, 3],\n",
              "        [4, 5, 6],\n",
              "        [7, 8, 9]],\n",
              "\n",
              "       [[1, 2, 3],\n",
              "        [3, 4, 5],\n",
              "        [6, 7, 8]]], dtype=int32)>"
            ]
          },
          "metadata": {},
          "execution_count": 7
        }
      ]
    },
    {
      "cell_type": "code",
      "source": [
        "d3_mat.ndim"
      ],
      "metadata": {
        "colab": {
          "base_uri": "https://localhost:8080/"
        },
        "id": "SfHeU2aZQ_HS",
        "outputId": "d4412265-9e4b-4265-8d43-3eb14483611f"
      },
      "execution_count": 8,
      "outputs": [
        {
          "output_type": "execute_result",
          "data": {
            "text/plain": [
              "3"
            ]
          },
          "metadata": {},
          "execution_count": 8
        }
      ]
    },
    {
      "cell_type": "markdown",
      "source": [
        "### Creating tensors with `tf.Variable`"
      ],
      "metadata": {
        "id": "-TIL4EJpRxrg"
      }
    },
    {
      "cell_type": "code",
      "source": [
        "changeable_tensor = tf.Variable([5, 10])\n",
        "changeable_tensor"
      ],
      "metadata": {
        "colab": {
          "base_uri": "https://localhost:8080/"
        },
        "id": "v-fLeU6uVxOp",
        "outputId": "060c85ea-1db5-441f-9155-1bd12bca40ab"
      },
      "execution_count": 9,
      "outputs": [
        {
          "output_type": "execute_result",
          "data": {
            "text/plain": [
              "<tf.Variable 'Variable:0' shape=(2,) dtype=int32, numpy=array([ 5, 10], dtype=int32)>"
            ]
          },
          "metadata": {},
          "execution_count": 9
        }
      ]
    },
    {
      "cell_type": "code",
      "source": [
        "# Modifying the tensor created with .Variable()\n",
        "changeable_tensor[0].assign(69)\n",
        "changeable_tensor"
      ],
      "metadata": {
        "colab": {
          "base_uri": "https://localhost:8080/"
        },
        "id": "Na0N7hQrWuEe",
        "outputId": "725db86f-9b97-4368-a890-cb56af7c7903"
      },
      "execution_count": 10,
      "outputs": [
        {
          "output_type": "execute_result",
          "data": {
            "text/plain": [
              "<tf.Variable 'Variable:0' shape=(2,) dtype=int32, numpy=array([69, 10], dtype=int32)>"
            ]
          },
          "metadata": {},
          "execution_count": 10
        }
      ]
    },
    {
      "cell_type": "markdown",
      "source": [
        "## Creating random tensors"
      ],
      "metadata": {
        "id": "CCUWV8QOWyeW"
      }
    },
    {
      "cell_type": "code",
      "source": [
        "# Create two random (but the same)\n",
        "random_1 = tf.random.Generator.from_seed(42) # set seed for reproducibility\n",
        "random_1 = random_1.normal(shape=(3, 2))\n",
        "\n",
        "random_2 = tf.random.Generator.from_seed(42)\n",
        "random_2 = random_2.normal(shape=(3, 2))\n",
        "\n",
        "random_1, random_2"
      ],
      "metadata": {
        "colab": {
          "base_uri": "https://localhost:8080/"
        },
        "id": "ZFWZSrQ6X7b_",
        "outputId": "97fa2f0b-3163-4125-c80f-9dbb4cbcb3aa"
      },
      "execution_count": 11,
      "outputs": [
        {
          "output_type": "execute_result",
          "data": {
            "text/plain": [
              "(<tf.Tensor: shape=(3, 2), dtype=float32, numpy=\n",
              " array([[-0.7565803 , -0.06854702],\n",
              "        [ 0.07595026, -1.2573844 ],\n",
              "        [-0.23193765, -1.8107855 ]], dtype=float32)>,\n",
              " <tf.Tensor: shape=(3, 2), dtype=float32, numpy=\n",
              " array([[-0.7565803 , -0.06854702],\n",
              "        [ 0.07595026, -1.2573844 ],\n",
              "        [-0.23193765, -1.8107855 ]], dtype=float32)>)"
            ]
          },
          "metadata": {},
          "execution_count": 11
        }
      ]
    },
    {
      "cell_type": "markdown",
      "source": [
        "### Shuffle the order of elements in a tensor"
      ],
      "metadata": {
        "id": "McNXPYUDbNha"
      }
    },
    {
      "cell_type": "code",
      "source": [
        "# Shuffle a tensor (valuable for when you want to shuffle your data so\n",
        "# the inherent order does not affect learning)\n",
        "not_shuffled = tf.constant([[10, 7],\n",
        "                            [3, 4],\n",
        "                            [2, 5]])\n",
        "\n",
        "# Shuffle our non shuffled tensor\n",
        "tf.random.set_seed(42)\n",
        "tf.random.shuffle(not_shuffled)"
      ],
      "metadata": {
        "colab": {
          "base_uri": "https://localhost:8080/"
        },
        "id": "e9jUw3V_dtgR",
        "outputId": "efd4102b-e9ae-4f22-c6f7-f138e498aaaa"
      },
      "execution_count": 12,
      "outputs": [
        {
          "output_type": "execute_result",
          "data": {
            "text/plain": [
              "<tf.Tensor: shape=(3, 2), dtype=int32, numpy=\n",
              "array([[ 3,  4],\n",
              "       [ 2,  5],\n",
              "       [10,  7]], dtype=int32)>"
            ]
          },
          "metadata": {},
          "execution_count": 12
        }
      ]
    },
    {
      "cell_type": "code",
      "source": [
        "tf.random.set_seed(42)\n",
        "a = tf.random.uniform(shape=(3, 3), minval=1, maxval=10, dtype=tf.int32)\n",
        "a"
      ],
      "metadata": {
        "colab": {
          "base_uri": "https://localhost:8080/"
        },
        "id": "cB-9-tMYykuB",
        "outputId": "cc7a19b2-d981-4bd7-b1d9-d39a1df1b105"
      },
      "execution_count": 21,
      "outputs": [
        {
          "output_type": "execute_result",
          "data": {
            "text/plain": [
              "<tf.Tensor: shape=(3, 3), dtype=int32, numpy=\n",
              "array([[8, 6, 9],\n",
              "       [4, 8, 3],\n",
              "       [8, 8, 8]], dtype=int32)>"
            ]
          },
          "metadata": {},
          "execution_count": 21
        }
      ]
    },
    {
      "cell_type": "markdown",
      "source": [
        "### Other ways to create tensors"
      ],
      "metadata": {
        "id": "e1Y5vKOwzT65"
      }
    },
    {
      "cell_type": "code",
      "source": [
        "# Create a tensor of all ones\n",
        "tf.ones([3, 3], dtype=tf.int32)"
      ],
      "metadata": {
        "colab": {
          "base_uri": "https://localhost:8080/"
        },
        "id": "ocfwOnti0Pnt",
        "outputId": "05691de6-ad08-457e-9557-6671fc63e5d2"
      },
      "execution_count": 23,
      "outputs": [
        {
          "output_type": "execute_result",
          "data": {
            "text/plain": [
              "<tf.Tensor: shape=(3, 3), dtype=int32, numpy=\n",
              "array([[1, 1, 1],\n",
              "       [1, 1, 1],\n",
              "       [1, 1, 1]], dtype=int32)>"
            ]
          },
          "metadata": {},
          "execution_count": 23
        }
      ]
    },
    {
      "cell_type": "code",
      "source": [
        "# Create a tensor of all zeros\n",
        "tf.zeros([3, 3], dtype=tf.int32)"
      ],
      "metadata": {
        "colab": {
          "base_uri": "https://localhost:8080/"
        },
        "id": "nynp5yzF0SdR",
        "outputId": "2ea406b7-6bcf-4772-fb2a-dc2350483946"
      },
      "execution_count": 24,
      "outputs": [
        {
          "output_type": "execute_result",
          "data": {
            "text/plain": [
              "<tf.Tensor: shape=(3, 3), dtype=int32, numpy=\n",
              "array([[0, 0, 0],\n",
              "       [0, 0, 0],\n",
              "       [0, 0, 0]], dtype=int32)>"
            ]
          },
          "metadata": {},
          "execution_count": 24
        }
      ]
    },
    {
      "cell_type": "markdown",
      "source": [
        "### Turn Numpy arrays into tensors\n",
        "\n",
        "The main difference between Numpy and Tensorflow is that tensors can be run on a GPU way faster"
      ],
      "metadata": {
        "id": "o5NPFLqu0hQJ"
      }
    },
    {
      "cell_type": "code",
      "source": [
        "# We can also turn Numpy arrays into arrays\n",
        "numpy_A = np.arange(1, 25, dtype=np.int32) # create a numpy array\n",
        "numpy_A"
      ],
      "metadata": {
        "colab": {
          "base_uri": "https://localhost:8080/"
        },
        "id": "PK1Fmfvb2QYJ",
        "outputId": "3f952cce-0ac4-490f-e58c-06aa4e232362"
      },
      "execution_count": 27,
      "outputs": [
        {
          "output_type": "execute_result",
          "data": {
            "text/plain": [
              "array([ 1,  2,  3,  4,  5,  6,  7,  8,  9, 10, 11, 12, 13, 14, 15, 16, 17,\n",
              "       18, 19, 20, 21, 22, 23, 24], dtype=int32)"
            ]
          },
          "metadata": {},
          "execution_count": 27
        }
      ]
    },
    {
      "cell_type": "code",
      "source": [
        "A = tf.constant(numpy_A, shape=(2,3,4))\n",
        "B = tf.constant(numpy_A, shape=(3, 8))\n",
        "\n",
        "A, B"
      ],
      "metadata": {
        "colab": {
          "base_uri": "https://localhost:8080/"
        },
        "id": "SqdhxsOp2qxh",
        "outputId": "ee855be7-3bd5-4253-e874-fb67797fc2d2"
      },
      "execution_count": 44,
      "outputs": [
        {
          "output_type": "execute_result",
          "data": {
            "text/plain": [
              "(<tf.Tensor: shape=(2, 3, 4), dtype=int32, numpy=\n",
              " array([[[ 1,  2,  3,  4],\n",
              "         [ 5,  6,  7,  8],\n",
              "         [ 9, 10, 11, 12]],\n",
              " \n",
              "        [[13, 14, 15, 16],\n",
              "         [17, 18, 19, 20],\n",
              "         [21, 22, 23, 24]]], dtype=int32)>,\n",
              " <tf.Tensor: shape=(3, 8), dtype=int32, numpy=\n",
              " array([[ 1,  2,  3,  4,  5,  6,  7,  8],\n",
              "        [ 9, 10, 11, 12, 13, 14, 15, 16],\n",
              "        [17, 18, 19, 20, 21, 22, 23, 24]], dtype=int32)>)"
            ]
          },
          "metadata": {},
          "execution_count": 44
        }
      ]
    },
    {
      "cell_type": "code",
      "source": [
        "A.shape, B.shape"
      ],
      "metadata": {
        "colab": {
          "base_uri": "https://localhost:8080/"
        },
        "id": "iDVTwWuJ25gI",
        "outputId": "6d59c573-c04b-413e-a8b2-49ded638154f"
      },
      "execution_count": 45,
      "outputs": [
        {
          "output_type": "execute_result",
          "data": {
            "text/plain": [
              "(TensorShape([2, 3, 4]), TensorShape([3, 8]))"
            ]
          },
          "metadata": {},
          "execution_count": 45
        }
      ]
    },
    {
      "cell_type": "markdown",
      "source": [
        "### Getting information from tensors"
      ],
      "metadata": {
        "id": "4a5qgA273Bd0"
      }
    },
    {
      "cell_type": "code",
      "source": [
        "tf.size(A)"
      ],
      "metadata": {
        "colab": {
          "base_uri": "https://localhost:8080/"
        },
        "id": "-fnDJMId4ypM",
        "outputId": "8e1e7ec9-6b95-45a0-933b-5c87c7cca3b1"
      },
      "execution_count": 47,
      "outputs": [
        {
          "output_type": "execute_result",
          "data": {
            "text/plain": [
              "<tf.Tensor: shape=(), dtype=int32, numpy=24>"
            ]
          },
          "metadata": {},
          "execution_count": 47
        }
      ]
    },
    {
      "cell_type": "code",
      "source": [
        "rank_4_tensor = tf.random.normal(shape=(2, 3, 4, 5))\n",
        "rank_4_tensor"
      ],
      "metadata": {
        "colab": {
          "base_uri": "https://localhost:8080/"
        },
        "id": "uPLeyvOO9i4J",
        "outputId": "5d56c2d5-929d-4f70-b51c-7612c1e4b91d"
      },
      "execution_count": 62,
      "outputs": [
        {
          "output_type": "execute_result",
          "data": {
            "text/plain": [
              "<tf.Tensor: shape=(2, 3, 4, 5), dtype=float32, numpy=\n",
              "array([[[[-0.5590974 , -0.5347214 ,  2.3730333 , -1.5725931 ,\n",
              "           0.80550563],\n",
              "         [-0.83387697,  0.3061122 ,  2.2660491 ,  0.2856414 ,\n",
              "          -1.5536156 ],\n",
              "         [ 0.37975532,  0.76646256,  0.3611479 ,  0.09653296,\n",
              "           0.2169556 ],\n",
              "         [-0.81440705, -0.23623595,  0.49669698, -1.7737728 ,\n",
              "           0.20886712]],\n",
              "\n",
              "        [[ 1.0022159 , -0.12915266,  0.16589078,  0.4733353 ,\n",
              "          -0.834051  ],\n",
              "         [ 1.013081  ,  0.4107652 ,  0.5531745 ,  1.7808596 ,\n",
              "          -0.3277541 ],\n",
              "         [ 0.9474485 ,  0.97951055, -0.46425048,  1.3030937 ,\n",
              "          -0.24370235],\n",
              "         [ 0.6692922 ,  0.39855948, -2.4770668 , -0.36922926,\n",
              "          -0.84287834]],\n",
              "\n",
              "        [[ 1.8889832 , -0.6198924 ,  1.0777894 ,  1.0240268 ,\n",
              "           0.26340935],\n",
              "         [-0.9011545 ,  0.8177133 , -0.27730602,  1.1863395 ,\n",
              "          -0.11432811],\n",
              "         [-0.81191176, -0.13922755,  1.8237975 ,  0.09685095,\n",
              "          -0.1175178 ],\n",
              "         [ 0.65498006,  0.8112674 , -0.20581378,  0.34243053,\n",
              "           1.0400137 ]]],\n",
              "\n",
              "\n",
              "       [[[ 0.5152446 , -1.7396942 , -1.25223   ,  1.2125493 ,\n",
              "           0.9787496 ],\n",
              "         [-0.4366913 ,  0.5438104 , -0.6789775 , -0.79198945,\n",
              "          -0.23655526],\n",
              "         [-0.6963311 ,  0.427093  , -0.04938047,  0.12529565,\n",
              "          -1.705371  ],\n",
              "         [-0.38835114, -0.15932687, -1.0995821 , -0.2784588 ,\n",
              "           1.4318053 ]],\n",
              "\n",
              "        [[ 0.13784139, -0.05521483, -0.17450511, -0.27249354,\n",
              "           1.1057245 ],\n",
              "         [-0.09636995, -0.1075452 , -1.1829088 ,  0.61956465,\n",
              "          -0.5877444 ],\n",
              "         [-0.56367105,  1.0141273 ,  1.0195347 , -1.4466401 ,\n",
              "          -0.8346937 ],\n",
              "         [ 1.4103184 ,  0.45040983,  0.2560983 , -0.86556965,\n",
              "           0.28800058]],\n",
              "\n",
              "        [[-1.0806512 , -2.3746383 , -0.46612987,  1.4919329 ,\n",
              "          -1.1515173 ],\n",
              "         [ 0.62770855,  1.7239882 , -0.29440323, -1.6069957 ,\n",
              "          -0.05934584],\n",
              "         [-0.28381917,  0.27930996, -0.18682508,  0.6070209 ,\n",
              "           0.3030273 ],\n",
              "         [-0.20684499,  0.6168586 , -0.02961474,  0.8677024 ,\n",
              "          -0.6721591 ]]]], dtype=float32)>"
            ]
          },
          "metadata": {},
          "execution_count": 62
        }
      ]
    },
    {
      "cell_type": "code",
      "source": [
        "def tensor_info(tnsr):\n",
        "  print(\"Datatype of every element:\", tnsr.dtype)\n",
        "  print(\"Number of dimensions (rank):\", tnsr.ndim)\n",
        "  print(\"Shape of tensor:\", tnsr.shape)\n",
        "  print(\"Elements along the 0 axis:\", tnsr.shape[0])\n",
        "  print(\"Elements along the last axis:\", tnsr.shape[-1])\n",
        "  print(\"Total number of elements in our tensor:\", tf.size(tnsr))\n",
        "  print(\"Total number of elements in our tensor:\", tf.size(tnsr).numpy())"
      ],
      "metadata": {
        "id": "MbFpJUqwGWuq"
      },
      "execution_count": 49,
      "outputs": []
    },
    {
      "cell_type": "code",
      "source": [
        "tensor_info(rank_4_tensor)"
      ],
      "metadata": {
        "colab": {
          "base_uri": "https://localhost:8080/"
        },
        "id": "_dzqwh4QL5s6",
        "outputId": "fe0e30fd-e226-4bcc-b071-ece82dfb7cb1"
      },
      "execution_count": 50,
      "outputs": [
        {
          "output_type": "stream",
          "name": "stdout",
          "text": [
            "Datatype of every element: <dtype: 'float32'>\n",
            "Number of dimensions (rank): 4\n",
            "Shape of tensor: (2, 3, 4, 5)\n",
            "Elements along the 0 axis: 2\n",
            "Elements along the last axis: 5\n",
            "Total number of elements in our tensor: tf.Tensor(120, shape=(), dtype=int32)\n",
            "Total number of elements in our tensor: 120\n"
          ]
        }
      ]
    },
    {
      "cell_type": "markdown",
      "source": [
        "### Indexing tensors\n",
        "\n",
        "Tensors can be indexed just like Python lists."
      ],
      "metadata": {
        "id": "MKThvBFtL8SH"
      }
    },
    {
      "cell_type": "code",
      "source": [
        "# Get the first two elements of each dimension\n",
        "rank_4_tensor[:2, :2, :2, :2]"
      ],
      "metadata": {
        "colab": {
          "base_uri": "https://localhost:8080/"
        },
        "id": "-13bJVPFNG3R",
        "outputId": "e4cdb080-31e7-456a-fc45-598e57980899"
      },
      "execution_count": 57,
      "outputs": [
        {
          "output_type": "execute_result",
          "data": {
            "text/plain": [
              "<tf.Tensor: shape=(2, 2, 2, 2), dtype=float32, numpy=\n",
              "array([[[[ 0.08422458, -0.86090374],\n",
              "         [ 0.6178192 , -0.33082047]],\n",
              "\n",
              "        [[ 1.3820479 ,  1.4319172 ],\n",
              "         [-0.33763257, -0.8959325 ]]],\n",
              "\n",
              "\n",
              "       [[[-2.3431015 ,  0.7729855 ],\n",
              "         [ 0.53643376, -0.3456942 ]],\n",
              "\n",
              "        [[-1.5070348 ,  1.2384809 ],\n",
              "         [-0.15523385,  0.90184975]]]], dtype=float32)>"
            ]
          },
          "metadata": {},
          "execution_count": 57
        }
      ]
    },
    {
      "cell_type": "code",
      "source": [
        "rank_4_tensor[:1, :1, :1]"
      ],
      "metadata": {
        "colab": {
          "base_uri": "https://localhost:8080/"
        },
        "id": "3B2zs_W_NQXx",
        "outputId": "a650667b-a5a2-416d-87e2-8917e9e6370b"
      },
      "execution_count": 61,
      "outputs": [
        {
          "output_type": "execute_result",
          "data": {
            "text/plain": [
              "<tf.Tensor: shape=(1, 1, 1, 5), dtype=float32, numpy=\n",
              "array([[[[ 0.08422458, -0.86090374,  0.37812304, -0.00519627,\n",
              "          -0.49453196]]]], dtype=float32)>"
            ]
          },
          "metadata": {},
          "execution_count": 61
        }
      ]
    },
    {
      "cell_type": "code",
      "source": [],
      "metadata": {
        "id": "vNxoRc7YOdIh"
      },
      "execution_count": null,
      "outputs": []
    }
  ]
}